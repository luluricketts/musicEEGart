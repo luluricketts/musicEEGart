{
 "cells": [
  {
   "cell_type": "markdown",
   "metadata": {},
   "source": [
    "## https://github.com/pygobject/pycairo/blob/master/examples/pycairo_examples.ipynb"
   ]
  },
  {
   "cell_type": "code",
   "execution_count": 73,
   "metadata": {},
   "outputs": [],
   "source": [
    "import cairocffi as cairo\n",
    "import sys, copy, math, random\n",
    "import imageio\n",
    "from io import BytesIO\n",
    "from IPython.display import Image, display"
   ]
  },
  {
   "cell_type": "code",
   "execution_count": 170,
   "metadata": {},
   "outputs": [],
   "source": [
    "def draw(width, height, colors):\n",
    "    images = []\n",
    "    \n",
    "    post = -1\n",
    "    for i in range(len(colors)):\n",
    "        surface = cairo.ImageSurface(cairo.FORMAT_ARGB32, width, height)\n",
    "        cr = cairo.Context(surface)\n",
    "        cr.scale(width, height)\n",
    "        cr.set_line_width(0.01)           \n",
    "        pattern = cairo.LinearGradient(0, 0, 1, 1)\n",
    "\n",
    "        # assign pre and post pointers\n",
    "        if i == len(colors)-1:\n",
    "            post = -1\n",
    "        else:\n",
    "            post = i+1\n",
    "            \n",
    "        if colors[i] != colors[post] and post != -1:\n",
    "            pattern.add_color_stop_rgb(0, 1, .3, .3) \n",
    "            pattern.add_color_stop_rgb(1, .3, .3, 1)\n",
    "            \n",
    "        if colors[i] == 0: # blue\n",
    "            pattern.add_color_stop_rgb(0, 1, 1, 1) \n",
    "            pattern.add_color_stop_rgb(1, 0, 0, 1)\n",
    "            \n",
    "        else: # red\n",
    "            pattern.add_color_stop_rgb(0, 1, 0, 0) \n",
    "            pattern.add_color_stop_rgb(1, 1, 1, 1)\n",
    "        \n",
    "        \n",
    "        mask = cairo.RadialGradient(0.5, 0.5, 0.25, 0.5, 0.5, 0.5)\n",
    "        mask.add_color_stop_rgba(0, 0, 0, 0, 1)\n",
    "        mask.add_color_stop_rgba(0.5, 0, 0, 0, 0)\n",
    "\n",
    "        cr.set_source(pattern)\n",
    "        cr.mask(mask)\n",
    "\n",
    "        surface.write_to_png(f'gradient{i}.png')\n",
    "        images.append(imageio.imread(f'gradient{i}.png'))\n",
    "\n",
    "    imageio.mimsave('gradient.gif', images)"
   ]
  },
  {
   "cell_type": "code",
   "execution_count": 171,
   "metadata": {},
   "outputs": [],
   "source": [
    "draw(600, 600)"
   ]
  },
  {
   "cell_type": "code",
   "execution_count": 133,
   "metadata": {},
   "outputs": [],
   "source": [
    "# surface = cairo.ImageSurface(cairo.FORMAT_ARGB32, 1000, 1000)\n",
    "# cr = cairo.Context(surface)\n",
    "    \n",
    "# cr.scale(1000, 1000)\n",
    "# cr.set_line_width(0.04)\n",
    "\n",
    "# pattern = cairo.LinearGradient(0, 0, 1, 1)\n",
    "# pattern.add_color_stop_rgb(0, 1, .3, .3) red blue transition\n",
    "# pattern.add_color_stop_rgb(1, .3, .3, 1)\n",
    "\n",
    "# pattern.add_color_stop_rgb(0, 1, 0, 0) red\n",
    "# pattern.add_color_stop_rgb(1, 1, 1, 1)\n",
    "\n",
    "# pattern.add_color_stop_rgb(0, 1, 1, 1) # blue\n",
    "# pattern.add_color_stop_rgb(1, 0, 0, 1)\n",
    "\n",
    "# mask = cairo.RadialGradient(0.5, 0.5, 0.25, 0.5, 0.5, 0.5)\n",
    "# mask.add_color_stop_rgba(0, 0, 0, 0, 1)\n",
    "# mask.add_color_stop_rgba(0.5, 0, 0, 0, 0)\n",
    "\n",
    "# cr.set_source(pattern)\n",
    "# cr.mask(mask)\n",
    "    \n",
    "# with BytesIO() as fileobj:\n",
    "#     surface.write_to_png(fileobj)\n",
    "#     display(Image(fileobj.getvalue(), width=400))\n",
    "            "
   ]
  },
  {
   "cell_type": "code",
   "execution_count": null,
   "metadata": {},
   "outputs": [],
   "source": []
  }
 ],
 "metadata": {
  "kernelspec": {
   "display_name": "Python 3",
   "language": "python",
   "name": "python3"
  },
  "language_info": {
   "codemirror_mode": {
    "name": "ipython",
    "version": 3
   },
   "file_extension": ".py",
   "mimetype": "text/x-python",
   "name": "python",
   "nbconvert_exporter": "python",
   "pygments_lexer": "ipython3",
   "version": "3.8.3"
  }
 },
 "nbformat": 4,
 "nbformat_minor": 4
}
