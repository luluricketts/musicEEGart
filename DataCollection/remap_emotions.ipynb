{
 "cells": [
  {
   "cell_type": "markdown",
   "metadata": {},
   "source": [
    "## Remapping Emotions to Binary\n",
    "\n",
    "Initial trials used emotions:\n",
    "\n",
    "* 0-Happy\n",
    "* 1-Sad\n",
    "* 2-Relaxed\n",
    "* 3-Energized\n",
    "* 4-Anxious\n",
    "* 5-Disgust\n",
    "* 6-Anger\n",
    "\n",
    "After feedback we decided using NeuroSky cannot separate this many classes of emotions. Earlier participants entered these values, and the majority of emotions chosen were among Relaxed/Energized. Since these are very opposite emotions, we decided to remap all of the emotions to these 2. The purpose of this notebook is to remap any emotion that isn't Relaxed/Energized to one of them. We propose these remappings:\n",
    "\n",
    "* 2 - Relaxed <-- Sad, Anxious\n",
    "* 3 - Energized <-- Happy, Disgust, Anger\n",
    "\n",
    "After remapping, the two emotions **relaxed** and **energized** will be remapped to 0/1 (relaxed/energized) to aid in the binary classification problem"
   ]
  },
  {
   "cell_type": "code",
   "execution_count": 9,
   "metadata": {},
   "outputs": [],
   "source": [
    "import os\n",
    "import csv\n",
    "import pandas as pd\n",
    "import numpy as np\n",
    "from numpy import genfromtxt"
   ]
  },
  {
   "cell_type": "code",
   "execution_count": 13,
   "metadata": {},
   "outputs": [],
   "source": [
    "data_path = './data/emotion_data/'\n",
    "\n",
    "for filename in os.listdir(data_path):\n",
    "    if '.ipynb' in filename:\n",
    "        continue\n",
    "    \n",
    "    df = pd.read_csv(data_path + filename, engine='python')\n",
    "    user_song = df.to_numpy()[:,:2]\n",
    "    vals = df.to_numpy(dtype='int64')[:,2:]\n",
    "    shape = vals.shape\n",
    "    vals = vals.flatten()\n",
    "    for i,v in enumerate(vals):\n",
    "        if v in [1,4]:\n",
    "            vals[i] = 2\n",
    "        elif v in [0,5,6]:\n",
    "            vals[i] = 3\n",
    "    vals = vals.reshape(shape)\n",
    "    df_ = pd.DataFrame(np.hstack([user_song, vals]), columns=df.columns)\n",
    "    \n",
    "    df_.to_csv(data_path + filename)"
   ]
  },
  {
   "cell_type": "markdown",
   "metadata": {},
   "source": [
    "## Remap to 0/1"
   ]
  },
  {
   "cell_type": "code",
   "execution_count": 14,
   "metadata": {},
   "outputs": [],
   "source": [
    "for filename in os.listdir(data_path):\n",
    "    if '.ipynb' in filename:\n",
    "        continue\n",
    "    \n",
    "    df = pd.read_csv(data_path + filename, engine='python')\n",
    "    user_song = df.to_numpy()[:,:2]\n",
    "    vals = df.to_numpy(dtype='int64')[:,2:]\n",
    "    shape = vals.shape\n",
    "    vals = vals.flatten()\n",
    "    for i,v in enumerate(vals):\n",
    "        if v == 2:\n",
    "            vals[i] = 0\n",
    "        elif v == 3:\n",
    "            vals[i] = 1\n",
    "    vals = vals.reshape(shape)\n",
    "    df_ = pd.DataFrame(np.hstack([user_song, vals]), columns=df.columns)\n",
    "    \n",
    "    df_.to_csv(data_path + filename)"
   ]
  },
  {
   "cell_type": "code",
   "execution_count": 57,
   "metadata": {},
   "outputs": [],
   "source": [
    "# format got messed up\n",
    "for filename in os.listdir(data_path):\n",
    "    if '.ipynb' in filename:\n",
    "        continue\n",
    "    \n",
    "    df = pd.read_csv(data_path + filename, engine='python', index_col=0)\n",
    "    try:\n",
    "        df.drop('Unnamed: 0', inplace=True, axis=1)\n",
    "    except:\n",
    "        df.drop('Unnamed: 0.1', inplace=True, axis=1)\n",
    "    df['song'] = np.arange(1,len(df)+1)\n",
    "    \n",
    "    df.to_csv(data_path + filename)"
   ]
  },
  {
   "cell_type": "code",
   "execution_count": null,
   "metadata": {},
   "outputs": [],
   "source": []
  }
 ],
 "metadata": {
  "kernelspec": {
   "display_name": "Python 3",
   "language": "python",
   "name": "python3"
  },
  "language_info": {
   "codemirror_mode": {
    "name": "ipython",
    "version": 3
   },
   "file_extension": ".py",
   "mimetype": "text/x-python",
   "name": "python",
   "nbconvert_exporter": "python",
   "pygments_lexer": "ipython3",
   "version": "3.7.6"
  }
 },
 "nbformat": 4,
 "nbformat_minor": 4
}
